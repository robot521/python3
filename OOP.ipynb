{
 "cells": [
  {
   "cell_type": "markdown",
   "metadata": {},
   "source": [
    "# OOP-Python面向对象\n",
    "\n",
    "# 0. 面向对象概述（Object Oriented,OO）\n",
    "- OOP思想\n",
    "    - 接触到任意一个任务，首先想到的是任务这个世界的构成，是由模型构成的。\n",
    "- 名词介绍：\n",
    "    - OO：面向对象\n",
    "    - OOA：面向对象的分析\n",
    "    - OOD：面向对象的设计\n",
    "    - OOI：xxx的实现\n",
    "    - OOP：xxx的编程\n",
    "    - OOA -> OOD -> OOI：面向对象的实现过程\n",
    "\n",
    "- 类和对象的概念\n",
    "    - 类：抽象名词,代表一个集合,共性的事物（学生）\n",
    "    - 对象:具象事物,单个个体（某个学生）\n",
    "    - 类和对象的关系\n",
    "        - 一个是具象,代表一类事物的某一个个体（某个学生）\n",
    "        - 一个是抽象,代表一大类事物\n",
    "    \n",
    "    - 类中的内容：\n",
    "        - 表明事物的特征,叫做属性(变量//身高，体重)\n",
    "        - 表明事物的功能或动作,成员方法（函数）\n",
    "\n",
    "# 1.类的基本实现\n",
    "- 类的命名\n",
    "    - 遵守变量命名规范\n",
    "    - 大驼峰（由一个或多个单词构成,每个单词首字母大写,单词和单词直接相连//The_First）\n",
    "    - 尽量避开跟系统命名相似的命名\n",
    "- 声明一个类\n",
    "    - 必须使用class关键字\n",
    "    - 类由属性和方法构成,其他不允许出现\n",
    "    - 成员属性定义可以使用变量赋值,如果没有值,使用None\n",
    "    - 01.py\n",
    "- 类的实例化：\n",
    "    - 变量 = 类名（）\n",
    "- 访问对象成员\n",
    "    - 使用.操作符\n",
    "        - obj.属性名\n",
    "        - obj.方法名\n",
    "- 通过默认内置变量检查类和对象的所有成员\n",
    "    - 对象的所有成员检查\n",
    "        - obj.__dict__\n",
    "    - 类的所有成员检查\n",
    "        - class_name.__dict__\n",
    " \n",
    "# 2.anaconda基本使用\n",
    "- anaconda只要是一个虚拟环境管理器\n",
    "- 还是一个安装包管理器\n",
    "- conda list: 显示anaconda安装的包\n",
    "- conda env list:显示所有虚拟环境列表\n",
    "- conda create -n oop python=3.6：创建虚拟环境\n",
    "\n",
    "# 3.类和对象的成员分析\n",
    "- 类和对象都可以存储成员,成员可以归类所有,也可以归对象所有\n",
    "- 类存储成员时使用的是与类关联的一个对象\n",
    "- 独享存储成员是存储在当前对象中\n",
    "- 对象访问一个成员时,如果对象中没有该成员,尝试访问类中的同名成员，如果对象中有此成员,一定使用对象中的成员。\n",
    "- 创建对象的时候,类中的成员不会放入对象中,而是得到一个空对象,没有成员\n",
    "- 通过对象对类中成员重新赋值过着通过对象添加成员时,对应成员会保存在对象中,而不会修改类成员\n",
    "\n",
    "# 4.关于self\n",
    "- self在对象的方法中表示当前对象本身,如果通过对象调用一个方法,那么该对象会自动传入到当前方法的第一个参数中\n",
    "- self并不是关键字,只是一个用于接受对象的普通参数\n",
    "- 方法中有self形参的方法成为非绑定类的方法,可以通过对象访问,没有self的是绑定类的方法,只能通过类访问\n",
    "- 使用类访问绑定类的方法时,如果类方法中需要访问当前类的成员,可以通过__class__成员名来访问\n",
    "\n",
    "# 5.面向对象的三大特性\n",
    "- 封装\n",
    "- 继承\n",
    "- 多态\n",
    "\n",
    "## 5.1 封装\n",
    "- 封装就是对对象的成员进行访问限制\n",
    "- 封装的级别：\n",
    "    - 公开，public\n",
    "    - 受保护的，protected\n",
    "    - 私有的，private\n",
    "    - public,protected,private不是关键字\n",
    "- 判别对象的位置\n",
    "    - 对象内部\n",
    "    - 对象外部\n",
    "    - 子类中\n",
    "- 私有\n",
    "    - 私有成员是最高级别的封装，只能在当前类或对象中访问\n",
    "    - 在成员前面添加两个_\n",
    "        \n",
    "            class Person():\n",
    "                #public\n",
    "                name = \"xiaoming\"\n",
    "                #private\n",
    "                __age = 18\n",
    "    - Python的私有为name mangling的改名，可以使用对象._classname（类名）__attributename(属性名）访问\n",
    "- 受保护的\n",
    "    - 受保护的封装是将对象成员进行一定级别的封装，然后，在类或者子类中都可以进行访问，但是在外部不可以\n",
    "    - 封装方法： 在成员名称前加一个下划线\n",
    "- 公开的\n",
    "    - 公共的封装实际对成员灭有任何操作，任何地方都可以访问。\n",
    "\n",
    "## 5.2 继承\n",
    "- 继承就是一个类可以获得另外一个类中的成员属性和成员方法\n",
    "- Is -- A 关系  子类是父类的一个子集\n",
    "- 作用：减少代码，增加代码的复用功能，同时可以设置类与类直接的关系\n",
    "- 继承与被继承的概念：\n",
    "    - 被继承的类叫父类，也叫基类或者超类\n",
    "    - 用于继承的类，叫子类，也叫派生类\n",
    "- 继承的特征：\n",
    "    - 所有的类都继承自object类，及所有的类都是object类的子类\n",
    "    - 子类一旦继承父类，则可以使用父类中除私有成员外的所有内容\n",
    "    - 子类继承父类后并没有将父类成员完全赋值到子类中，而是通过引用关系访问调用\n",
    "    - 子类中可以定义独有的成员属性和方法\n",
    "    - 子类和父类使用同一成员名，则优先使用子类中的成员\n",
    "    - 子类如果想扩充父类的方法，可以在定义新方法的同时访问父类成员类进行代码重用，可以使用 父类名.父类成员 的格式来调用父类成员，也可以使       用super().父类成员名的格式来调用\n",
    "- 继承变量函数的查找顺序问题\n",
    "    - 优先查找自己的变量\n",
    "    - 次序查找父类\n",
    "    - 构造函数如果本类中没有定义，则自动查找调用父类构造函数\n",
    "    - 如果本类由定义，则使用本类中的\n",
    "### 构造函数\n",
    "- 在对象进行实例化的时候，系统自动调用的一个函数叫构造函数（魔法函数），通常此函数用来对的实例对象进行初始化\n",
    "- 构造函数是一类特殊的函数，在类进行实例化之前进行调用\n",
    "- 如果子类定义了构造函数，则实例化是调用子类的构造函数，否则向上查找父类的构造函数\n",
    "- 子类实例化时，参数应与父类构造函数的参数相一致\n",
    "### super\n",
    "- super不是关键字，是一个类\n",
    "- super的作用是获取MRO列表中的第一个类\n",
    "- super与父类没有直接关系，但是可以通过super调用父类\n",
    "- super使用的两个方法\n",
    "\n",
    "### 单继承和多继承\n",
    "- 单继承：每个类只能继承一个类\n",
    "- 多继承：每个类可以继承多个类\n",
    "- 单继承和多继承的优缺点：\n",
    "    - 单继承：\n",
    "        - 传承有序，逻辑清晰，语法简单，隐患少\n",
    "        - 功能不能无限扩展，只能在当前唯一的继承链中扩展\n",
    "    - 多继承：\n",
    "        - 类的功能扩展方便\n",
    "        - 继承关系混乱\n",
    "- 菱形继承/钻石继承\n",
    "        - 多个子类继承同一个父类，这些子类又被同一个类继承，于是继承关系图形成一个菱形\n",
    "        - 关于多继承的MRO\n",
    "            - MRO就是多继承中，用于保存继承顺序的一个列表\n",
    "            - python本身采用C3算法来对多继承的菱形继承进行计算的结果\n",
    "            - MRO列表计算原则：\n",
    "                - 子类永远在父类前面\n",
    "                - 如果多个父类，则根据继承语法中括号内类的书写顺序存放\n",
    "                - 如果多个类继承了同一个父类，子类的子类只会选取继承语法中括号中第一父类的父类\n",
    "## 5.3 多态\n",
    "- 多态是同一个对象在不同情况下由不同的状态出现\n",
    "- 多态不是语法，是一种设计思想\n",
    "- 多态性：一种调用方式，不同的执行结果\n",
    "- Mixin设计：\n",
    "    - 主要采用多继承方式对类的功能进行扩展\n",
    "    - 加入继承父类的功能。\n",
    "    - mixin采用多继承的语法\n",
    "    - mixin必须表示某一个单一功能，而不是某个物品\n",
    "    - 职责必须单一，如果有多个功能，则写多个Mixin\n",
    "    - Mixin不能依赖子类的实现\n",
    "    - 子类即使没有继承这个Mixin类，也能工作，只是缺少某个功能\n",
    "- Mixin优点：\n",
    "    - 使用Mixin可以在不对类进行任何修改的情况下，扩充子类功能\n",
    "    - 可以方便的组织和维护不同功能组件的划分\n",
    "    - 可以根据需要任意调整功能类的组合\n",
    "    - 可以避免创建很多新的类，导致类的继承混乱\n",
    "# 6 类的相关函数\n",
    "- issubclass 判断一个类是不是另一个类的子类\n",
    "- isinstance 判断一个对象是否是另一个类的实例  \n",
    "- hasattr 判断一个对象是否有成员xxx \n",
    "- getattr\n",
    "- setattr\n",
    "- delattr\n",
    "- dir 获取对象的成员列表\n"
   ]
  },
  {
   "cell_type": "code",
   "execution_count": 16,
   "metadata": {
    "scrolled": true
   },
   "outputs": [
    {
     "name": "stdout",
     "output_type": "stream",
     "text": [
      "DO WORK!!\n"
     ]
    },
    {
     "data": {
      "text/plain": [
       "mappingproxy({'__module__': '__main__',\n",
       "              'name': None,\n",
       "              'age': 18,\n",
       "              'study': 'Python',\n",
       "              'DoWork': <function __main__.Python_Stu.DoWork(self)>,\n",
       "              '__dict__': <attribute '__dict__' of 'Python_Stu' objects>,\n",
       "              '__weakref__': <attribute '__weakref__' of 'Python_Stu' objects>,\n",
       "              '__doc__': None})"
      ]
     },
     "execution_count": 16,
     "metadata": {},
     "output_type": "execute_result"
    }
   ],
   "source": [
    "# 类的定义\n",
    "'''\n",
    "定义一个学生类\n",
    "'''\n",
    "# 定义一个空的类\n",
    "class Student():\n",
    "    pass\n",
    "\n",
    "#定义Student()类的一个对象\n",
    "xiaoming = Student()\n",
    "\n",
    "# 定义一个学python的学生类\n",
    "class Python_Stu():\n",
    "    #使用None给不确定的变量赋值\n",
    "    name = None\n",
    "    age = 18\n",
    "    study = \"Python\"\n",
    "\n",
    "    #系统默认为函数添加self参数\n",
    "    def DoWork(self):\n",
    "        print(\"DO WORK!!\")\n",
    "\n",
    "        #推荐在函数末尾使用return\n",
    "        return None\n",
    "\n",
    "\n",
    "# 类的实例化\n",
    "xiaohong = Python_Stu()\n",
    "xiaohong.name\n",
    "xiaohong.age\n",
    "xiaohong.DoWork()\n",
    "xiaohong.__dict__\n",
    "Python_Stu.__dict__"
   ]
  },
  {
   "cell_type": "code",
   "execution_count": 6,
   "metadata": {},
   "outputs": [
    {
     "name": "stdout",
     "output_type": "stream",
     "text": [
      "my name is xiaoliu\n",
      "my age is 17\n",
      "1\n",
      "xiaowang\n"
     ]
    }
   ],
   "source": [
    "class Teahcer():\n",
    "    name = 'xiaowang'\n",
    "    age = 18\n",
    "    def say(self):\n",
    "        self.name = \"xiaoliu\"\n",
    "        self.age = 17\n",
    "        print('my name is {0}'.format(self.name))\n",
    "        print('my age is {0}'.format(self.age))\n",
    "    def say1():\n",
    "        print(1)\n",
    "        #调用类的成员变量需要用__class__\n",
    "        print(__class__.name)\n",
    "t = Teahcer()\n",
    "t.say()\n",
    "Teahcer.say1()"
   ]
  },
  {
   "cell_type": "code",
   "execution_count": 10,
   "metadata": {},
   "outputs": [
    {
     "name": "stdout",
     "output_type": "stream",
     "text": [
      "xiaohong\n",
      "20\n",
      "xiaohong\n",
      "20\n",
      "xiaoming\n",
      "18\n",
      "xiaogang\n",
      "22\n"
     ]
    }
   ],
   "source": [
    "# 关于self的案例\n",
    "\n",
    "\n",
    "class A():\n",
    "    name = 'xiaoming'\n",
    "    age = 18\n",
    "    \n",
    "    #构造函数\n",
    "    def __init__(self):\n",
    "        self.name= 'xiaohong'\n",
    "        self.age = 20\n",
    "        \n",
    "    def say(self):\n",
    "        print(self.name)\n",
    "        print(self.age)\n",
    "class B():\n",
    "    name = 'xiaogang'\n",
    "    age = 22\n",
    "a = A()\n",
    "a.say()\n",
    "\n",
    "A.say(a)\n",
    "A.say(A)\n",
    "\n",
    "#鸭子模型\n",
    "A.say(B)"
   ]
  },
  {
   "cell_type": "code",
   "execution_count": 13,
   "metadata": {},
   "outputs": [
    {
     "name": "stdout",
     "output_type": "stream",
     "text": [
      "xiaoming\n"
     ]
    },
    {
     "ename": "AttributeError",
     "evalue": "'Person' object has no attribute '__age'",
     "output_type": "error",
     "traceback": [
      "\u001b[0;31m---------------------------------------------------------------------------\u001b[0m",
      "\u001b[0;31mAttributeError\u001b[0m                            Traceback (most recent call last)",
      "\u001b[0;32m<ipython-input-13-5ed0492b1f1a>\u001b[0m in \u001b[0;36m<module>\u001b[0;34m()\u001b[0m\n\u001b[1;32m      8\u001b[0m \u001b[0mp\u001b[0m \u001b[0;34m=\u001b[0m \u001b[0mPerson\u001b[0m\u001b[0;34m(\u001b[0m\u001b[0;34m)\u001b[0m\u001b[0;34m\u001b[0m\u001b[0m\n\u001b[1;32m      9\u001b[0m \u001b[0mprint\u001b[0m\u001b[0;34m(\u001b[0m\u001b[0mp\u001b[0m\u001b[0;34m.\u001b[0m\u001b[0mname\u001b[0m\u001b[0;34m)\u001b[0m\u001b[0;34m\u001b[0m\u001b[0m\n\u001b[0;32m---> 10\u001b[0;31m \u001b[0mprint\u001b[0m\u001b[0;34m(\u001b[0m\u001b[0mp\u001b[0m\u001b[0;34m.\u001b[0m\u001b[0m__age\u001b[0m\u001b[0;34m)\u001b[0m\u001b[0;34m\u001b[0m\u001b[0m\n\u001b[0m",
      "\u001b[0;31mAttributeError\u001b[0m: 'Person' object has no attribute '__age'"
     ]
    }
   ],
   "source": [
    "# 私有成员示例\n",
    "class Person():\n",
    "    #public\n",
    "    name = \"xiaoming\"\n",
    "\n",
    "    #private\n",
    "    __age = 18\n",
    "p = Person()\n",
    "print(p.name)\n",
    "print(p.__age)"
   ]
  },
  {
   "cell_type": "code",
   "execution_count": 15,
   "metadata": {},
   "outputs": [
    {
     "name": "stdout",
     "output_type": "stream",
     "text": [
      "22\n"
     ]
    }
   ],
   "source": [
    "p._Person__age= 22\n",
    "print(p.Person_age)"
   ]
  },
  {
   "cell_type": "code",
   "execution_count": null,
   "metadata": {},
   "outputs": [],
   "source": [
    "\n"
   ]
  },
  {
   "cell_type": "code",
   "execution_count": 28,
   "metadata": {},
   "outputs": [
    {
     "name": "stdout",
     "output_type": "stream",
     "text": [
      "Fu\n",
      "Fu\n",
      "sec\n",
      "私有出错：\n"
     ]
    },
    {
     "ename": "AttributeError",
     "evalue": "'Zi' object has no attribute '__score'",
     "output_type": "error",
     "traceback": [
      "\u001b[0;31m---------------------------------------------------------------------------\u001b[0m",
      "\u001b[0;31mAttributeError\u001b[0m                            Traceback (most recent call last)",
      "\u001b[0;32m<ipython-input-28-ce2953d1e7f5>\u001b[0m in \u001b[0;36m<module>\u001b[0;34m()\u001b[0m\n\u001b[1;32m     21\u001b[0m \u001b[0mprint\u001b[0m\u001b[0;34m(\u001b[0m\u001b[0mzi\u001b[0m\u001b[0;34m.\u001b[0m\u001b[0m_petname\u001b[0m\u001b[0;34m)\u001b[0m\u001b[0;34m\u001b[0m\u001b[0m\n\u001b[1;32m     22\u001b[0m \u001b[0mprint\u001b[0m\u001b[0;34m(\u001b[0m\u001b[0;34m\"私有出错：\"\u001b[0m\u001b[0;34m)\u001b[0m\u001b[0;34m\u001b[0m\u001b[0m\n\u001b[0;32m---> 23\u001b[0;31m \u001b[0mprint\u001b[0m\u001b[0;34m(\u001b[0m\u001b[0mzi\u001b[0m\u001b[0;34m.\u001b[0m\u001b[0m__score\u001b[0m\u001b[0;34m)\u001b[0m\u001b[0;34m\u001b[0m\u001b[0m\n\u001b[0m",
      "\u001b[0;31mAttributeError\u001b[0m: 'Zi' object has no attribute '__score'"
     ]
    }
   ],
   "source": [
    "# 继承的语法\n",
    "# 在python中，任何类有一个共同的父类叫object\n",
    "class Fu():\n",
    "    name = \"Fu\"\n",
    "    age = 1\n",
    "    __score = 0 # 私有成员\n",
    "    _petname = \"sec\" # 受保护的成员\n",
    "    def sleep(self):\n",
    "        print(\"Zzzzzzz\")\n",
    "#父类写在括号内\n",
    "class Zi(Fu):\n",
    "    def make_test(self):\n",
    "        \n",
    "        pass\n",
    "\n",
    "\n",
    "zi = Zi()\n",
    "print(zi.name)\n",
    "print(Fu.name)\n",
    "\n",
    "print(zi._petname)\n",
    "print(\"私有出错：\")\n",
    "print(zi.__score)"
   ]
  },
  {
   "cell_type": "code",
   "execution_count": 30,
   "metadata": {},
   "outputs": [
    {
     "name": "stdout",
     "output_type": "stream",
     "text": [
      "xiaoming\n"
     ]
    }
   ],
   "source": [
    "# 子类和父类使用同一成员名\n",
    "class Fu():\n",
    "    name = \"Fu\"\n",
    "    age = 1\n",
    "    __score = 0 # 私有成员\n",
    "    _petname = \"sec\" # 受保护的成员\n",
    "    def sleep(self):\n",
    "        print(\"Zzzzzzz\")\n",
    "#父类写在括号内\n",
    "class Zi(Fu):\n",
    "    teacher_id = 9527\n",
    "    name = 'xiaoming'\n",
    "        \n",
    "    def make_test(self):\n",
    "        print(\"子类成员方法\")\n",
    "zi = Zi()\n",
    "print(zi.name)\n",
    "      "
   ]
  },
  {
   "cell_type": "code",
   "execution_count": 40,
   "metadata": {},
   "outputs": [
    {
     "name": "stdout",
     "output_type": "stream",
     "text": [
      "父类的work():\n",
      "make money\n",
      "扩充之后的work():\n",
      "make money\n",
      "子类成员方法\n",
      "-------------------------------\n",
      "make money\n",
      "子类成员方法\n"
     ]
    }
   ],
   "source": [
    "# 子类扩充父类功能\n",
    "class Fu():\n",
    "    name = \"Fu\"\n",
    "    age = 1\n",
    "    __score = 0 # 私有成员\n",
    "    _petname = \"sec\" # 受保护的成员\n",
    "    def sleep(self):\n",
    "        print(\"Zzzzzzz\")\n",
    "    def work(self):\n",
    "        print(\"make money\")\n",
    "#父类写在括号内\n",
    "class Zi(Fu):\n",
    "    teacher_id = 9527\n",
    "    name = 'xiaoming'\n",
    "    # 子类独有的成员方法    \n",
    "    def make_test(self):\n",
    "        print(\"子类成员方法\")\n",
    "    # 扩充父类work()的功能\n",
    "    def work(self):\n",
    "        #(1)\n",
    "        Fu.work(self)\n",
    "        self.make_test()\n",
    "        print(\"-------------------------------\")\n",
    "        #(2)\n",
    "        super().work()\n",
    "        self.make_test()\n",
    "print(\"父类的work():\")\n",
    "Fu.work(Fu)\n",
    "zi = Zi()\n",
    "print(\"扩充之后的work():\")\n",
    "zi.work()\n"
   ]
  },
  {
   "cell_type": "code",
   "execution_count": 41,
   "metadata": {},
   "outputs": [
    {
     "name": "stdout",
     "output_type": "stream",
     "text": [
      "这是一个构造函数\n"
     ]
    }
   ],
   "source": [
    "# 构造函数\n",
    "class Dog():\n",
    "    #每次实例化的时候，__init__总是第一个被自动调用执行\n",
    "    # 构造函数主要用于初始化\n",
    "    def __init__(self):\n",
    "        print(\"这是一个构造函数\")\n",
    "# 实例化的时候，括号内的参数必须和构造函数的参数相匹配\n",
    "kaka = Dog()        "
   ]
  },
  {
   "cell_type": "code",
   "execution_count": 2,
   "metadata": {},
   "outputs": [
    {
     "name": "stdout",
     "output_type": "stream",
     "text": [
      "这是一个子类构造函数\n"
     ]
    }
   ],
   "source": [
    "# 继承中构造函数-1\n",
    "class Animel():\n",
    "    def __init__(self):\n",
    "        print(\"这是一个父类构造函数\")\n",
    "\n",
    "class Dog(Animel):\n",
    "    #每次实例化的时候，__init__总是第一个被自动调用执行\n",
    "    # 构造函数主要用于初始化\n",
    "    def __init__(self):\n",
    "        print(\"这是一个子类构造函数\")\n",
    "kaka = Dog()"
   ]
  },
  {
   "cell_type": "code",
   "execution_count": 44,
   "metadata": {},
   "outputs": [
    {
     "name": "stdout",
     "output_type": "stream",
     "text": [
      "这是使用子类构造函数\n",
      "这是使用父类构造函数\n"
     ]
    }
   ],
   "source": [
    "# 继承中构造函数-2\n",
    "class Animel():\n",
    "    def __init__(self):\n",
    "        print(\"这是使用父类构造函数\")\n",
    "\n",
    "class Dog(Animel):\n",
    "    #每次实例化的时候，__init__总是第一个被自动调用执行\n",
    "    # 构造函数主要用于初始化\n",
    "    def __init__(self):\n",
    "        print(\"这是使用子类构造函数\")\n",
    "\n",
    "class Cat(Animel):\n",
    "    pass\n",
    "\n",
    "# 子类中定义了构造函数\n",
    "xiaogou = Dog()\n",
    "# 子类中没有定义构造函数\n",
    "xiaomao = Cat()\n"
   ]
  },
  {
   "cell_type": "code",
   "execution_count": 4,
   "metadata": {},
   "outputs": [
    {
     "name": "stdout",
     "output_type": "stream",
     "text": [
      "这是一只小狗\n",
      "这是一只 123\n"
     ]
    }
   ],
   "source": [
    "# 继承中构造函数-3\n",
    "class Animel():\n",
    "    def __init__(self,name):\n",
    "        print(\"这是一只 {0}\".format(name))\n",
    "class Dog(Animel):\n",
    "    #每次实例化的时候，__init__总是第一个被自动调用执行\n",
    "    # 构造函数主要用于初始化\n",
    "    def __init__(self):\n",
    "        print(\"这是一只小狗\")\n",
    "\n",
    "class Cat(Animel):\n",
    "    pass\n",
    "\n",
    "# Dog类定义了构造函数，参数相匹配，不报错\n",
    "xiaogou = Dog()\n",
    "\n",
    "# Cat类缺少构造函数参数，报错\n",
    "xiaomao = Cat(123)\n"
   ]
  },
  {
   "cell_type": "code",
   "execution_count": 9,
   "metadata": {},
   "outputs": [
    {
     "name": "stdout",
     "output_type": "stream",
     "text": [
      "B\n",
      "1\n",
      "C\n"
     ]
    }
   ],
   "source": [
    "## 继承中构造函数-4\n",
    "class A():\n",
    "    def __init__(self):\n",
    "        print(\"A\")\n",
    "class B(A):\n",
    "    def __init__(self,name):\n",
    "        print(\"B\")\n",
    "        print(name)\n",
    "        \n",
    "class C(B):\n",
    "    # 扩展B类的功能\n",
    "    '''\n",
    "    # （1）通过父类名调用\n",
    "    def __init__(self,name):\n",
    "        B.__init__(self,name)\n",
    "        print(\"C\")\n",
    "    '''\n",
    "    # (2) 使用super()\n",
    "    def __init__(self,name):\n",
    "        super(C,self).__init__(name)\n",
    "        print(\"C\")\n",
    "c = C(1)"
   ]
  },
  {
   "cell_type": "code",
   "execution_count": 10,
   "metadata": {},
   "outputs": [],
   "source": [
    "# 菱形继承\n",
    "class A():\n",
    "    pass\n",
    "\n",
    "class B(A):\n",
    "    pass\n",
    "class C(A):\n",
    "    pass\n",
    "\n",
    "class D(B,C):\n",
    "    pass"
   ]
  },
  {
   "cell_type": "code",
   "execution_count": 29,
   "metadata": {},
   "outputs": [
    {
     "name": "stdout",
     "output_type": "stream",
     "text": [
      "True\n"
     ]
    }
   ],
   "source": [
    "# issubclass  判断一个类是不是另一个类的子类\n",
    "class a():\n",
    "    pass\n",
    "class b(a):\n",
    "    pass\n",
    "print(issubclass(b,a))"
   ]
  },
  {
   "cell_type": "code",
   "execution_count": 30,
   "metadata": {},
   "outputs": [
    {
     "name": "stdout",
     "output_type": "stream",
     "text": [
      "True\n"
     ]
    }
   ],
   "source": [
    "# isinstance\n",
    "class a():\n",
    "    pass\n",
    "aa =a()\n",
    "print(isinstance(aa,a))"
   ]
  },
  {
   "cell_type": "code",
   "execution_count": 33,
   "metadata": {},
   "outputs": [
    {
     "name": "stdout",
     "output_type": "stream",
     "text": [
      "True\n"
     ]
    }
   ],
   "source": [
    "# hasattr\n",
    "class A():\n",
    "    name = None\n",
    "a = A()\n",
    "print(hasattr(a,'name'))"
   ]
  },
  {
   "cell_type": "code",
   "execution_count": 28,
   "metadata": {},
   "outputs": [
    {
     "name": "stdout",
     "output_type": "stream",
     "text": [
      "(<class '__main__.Tutor'>, <class '__main__.Teacher'>, <class '__main__.Student'>, <class '__main__.Persion'>, <class 'object'>)\n",
      "{}\n",
      "{'__module__': '__main__', '__doc__': None}\n",
      "******************************************************************************************\n",
      "(<class '__main__.TutorMixin'>, <class '__main__.Persion'>, <class '__main__.TeacherMixin'>, <class '__main__.StudentMixin'>, <class 'object'>)\n",
      "{}\n",
      "{'__module__': '__main__', '__doc__': None}\n"
     ]
    }
   ],
   "source": [
    "# mixin 示例：\n",
    "# 多继承版\n",
    "class Persion():\n",
    "    name = \"xiaowang\"\n",
    "    age = 18\n",
    "    def eat(self):\n",
    "        print(\"eat\")\n",
    "    def drink(self):\n",
    "        print(\"drink\")\n",
    "class Teacher(Persion):\n",
    "    def work(self):\n",
    "        print(\"work\")\n",
    "class Student(Persion):\n",
    "    def study(self):\n",
    "        print(\"study\")\n",
    "class Tutor(Teacher,Student):\n",
    "    pass\n",
    "t = Tutor()\n",
    "print(Tutor.__mro__)\n",
    "print(t.__dict__)\n",
    "print(Tutor.__dict__)\n",
    "\n",
    "\n",
    "print(\"******************************\"*3)\n",
    "# Mixin 版\n",
    "class TeacherMixin():\n",
    "    def work(self):\n",
    "        print(\"work\")\n",
    "class StudentMixin():\n",
    "    def study(self):\n",
    "        print(\"study\")\n",
    "class TutorMixin(Persion,TeacherMixin,StudentMixin):\n",
    "    pass\n",
    "tt = TutorMixin()\n",
    "print(TutorMixin.__mro__)\n",
    "print(tt.__dict__)\n",
    "print(TutorMixin.__dict__)"
   ]
  },
  {
   "cell_type": "code",
   "execution_count": null,
   "metadata": {},
   "outputs": [],
   "source": []
  }
 ],
 "metadata": {
  "kernelspec": {
   "display_name": "Python 3",
   "language": "python",
   "name": "python3"
  },
  "language_info": {
   "codemirror_mode": {
    "name": "ipython",
    "version": 3
   },
   "file_extension": ".py",
   "mimetype": "text/x-python",
   "name": "python",
   "nbconvert_exporter": "python",
   "pygments_lexer": "ipython3",
   "version": "3.7.0"
  }
 },
 "nbformat": 4,
 "nbformat_minor": 2
}
