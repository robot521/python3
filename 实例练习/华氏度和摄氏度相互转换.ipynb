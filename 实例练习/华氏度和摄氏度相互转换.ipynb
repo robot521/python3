{
 "cells": [
  {
   "cell_type": "code",
   "execution_count": null,
   "metadata": {},
   "outputs": [],
   "source": [
    "# 华氏度和摄氏度相互转换\n",
    "TempStr = input(\"请输入带有符号的温度值：\")\n",
    "if TempStr[-1] in ['F','f']:\n",
    "    # 评估函数eval() 去掉参数最外侧引号并执行余下语句\n",
    "    C = (eval(TempStr[0:-1]) - 32) / 1.8\n",
    "    # {:.2f}保留参数的两位小数\n",
    "    print(\"转换后的温度是：{:.2f}C\".format(C))\n",
    "elif TempStr[-1] in ['C','c']:\n",
    "    F = 1.8 * eval(TempStr[0:-1]) + 32\n",
    "    print(\"转换后的温度是:{:.2f}F\".format(F))\n",
    "else:\n",
    "    print(\"输入格式错误\")"
   ]
  }
 ],
 "metadata": {
  "kernelspec": {
   "display_name": "Python 3",
   "language": "python",
   "name": "python3"
  },
  "language_info": {
   "codemirror_mode": {
    "name": "ipython",
    "version": 3
   },
   "file_extension": ".py",
   "mimetype": "text/x-python",
   "name": "python",
   "nbconvert_exporter": "python",
   "pygments_lexer": "ipython3",
   "version": "3.7.0"
  }
 },
 "nbformat": 4,
 "nbformat_minor": 2
}
